{
 "cells": [
  {
   "cell_type": "markdown",
   "id": "2bc919f2-1e8f-462c-9603-87c7684f3d19",
   "metadata": {},
   "source": [
    "# A/B Testing for ShoeFly.com\n",
    "Our favorite online shoe store, ShoeFly.com is performing an A/B Test. They have two different versions of an ad, which they have placed in emails, as well as in banner ads on Facebook, Twitter, and Google. They want to know how the two ads are performing on each of the different platforms on each day of the week. Help them analyze the data using aggregate measures.\n",
    "\n",
    "If you get stuck during this project or would like to see an experienced developer work through it, click **\"Get Unstuck\"** to see a **project walkthrough video.**"
   ]
  },
  {
   "cell_type": "markdown",
   "id": "3a782ce7-9e6a-4f3f-9039-66160ceb370d",
   "metadata": {},
   "source": [
    "## Analyzing Ad Sources"
   ]
  },
  {
   "cell_type": "markdown",
   "id": "3ed2db68-9714-4494-bddd-ccea99b87f91",
   "metadata": {},
   "source": [
    "### Task 1\n",
    "Examine the first few rows of `ad_clicks`."
   ]
  },
  {
   "cell_type": "code",
   "execution_count": 1,
   "id": "4d3f817d-dcfe-40f0-86f9-354b97a1159d",
   "metadata": {},
   "outputs": [
    {
     "name": "stdout",
     "output_type": "stream",
     "text": [
      "                                user_id utm_source            day  \\\n",
      "0  008b7c6c-7272-471e-b90e-930d548bd8d7     google   6 - Saturday   \n",
      "1  009abb94-5e14-4b6c-bb1c-4f4df7aa7557   facebook     7 - Sunday   \n",
      "2  00f5d532-ed58-4570-b6d2-768df5f41aed    twitter    2 - Tuesday   \n",
      "3  011adc64-0f44-4fd9-a0bb-f1506d2ad439     google    2 - Tuesday   \n",
      "4  012137e6-7ae7-4649-af68-205b4702169c   facebook     7 - Sunday   \n",
      "5  013b0072-7b72-40e7-b698-98b4d0c9967f   facebook     1 - Monday   \n",
      "6  0153d85b-7660-4c39-92eb-1e1acd023280     google   4 - Thursday   \n",
      "7  01555297-d6e6-49ae-aeba-1b196fdbb09f     google  3 - Wednesday   \n",
      "8  018cea61-19ea-4119-895b-1a4309ccb148      email     1 - Monday   \n",
      "9  01a210c3-fde0-4e6f-8efd-4f0e38730ae6      email    2 - Tuesday   \n",
      "\n",
      "  ad_click_timestamp experimental_group  \n",
      "0               7:18                  A  \n",
      "1                NaN                  B  \n",
      "2                NaN                  A  \n",
      "3                NaN                  B  \n",
      "4                NaN                  B  \n",
      "5                NaN                  A  \n",
      "6                NaN                  A  \n",
      "7                NaN                  A  \n",
      "8              18:33                  A  \n",
      "9              15:21                  B  \n"
     ]
    }
   ],
   "source": [
    "import pandas as pd\n",
    "import numpy as np\n",
    "\n",
    "ad_clicks = pd.read_csv('ad_clicks.csv')\n",
    "print(ad_clicks.head(10))"
   ]
  },
  {
   "cell_type": "markdown",
   "id": "afd69f3c-e686-4000-b8a2-13de198ab257",
   "metadata": {},
   "source": [
    "### Task 2\n",
    "Your manager wants to know which ad platform is getting you the most views.\n",
    "\n",
    "How many views (i.e., rows of the table) came from each `utm_source`?"
   ]
  },
  {
   "cell_type": "code",
   "execution_count": 4,
   "id": "9f2d918b-ad29-4de3-abc1-c489d3487c6b",
   "metadata": {},
   "outputs": [
    {
     "name": "stdout",
     "output_type": "stream",
     "text": [
      "  utm_source  user_id\n",
      "0      email      255\n",
      "1   facebook      504\n",
      "2     google      680\n",
      "3    twitter      215\n"
     ]
    }
   ],
   "source": [
    "most_ad_clicks = ad_clicks.groupby('utm_source').user_id.count().reset_index()\n",
    "print(most_ad_clicks)"
   ]
  },
  {
   "cell_type": "markdown",
   "id": "65c1479e-667a-4f0a-bd2c-d54ac31d3ea9",
   "metadata": {},
   "source": [
    "### Task 3\n",
    "If the column `ad_click_timestamp` is not null, then someone actually clicked on the ad that was displayed.\n",
    "\n",
    "Create a new column called `is_click`, which is True if `ad_click_timestamp` is not null and False otherwise."
   ]
  },
  {
   "cell_type": "code",
   "execution_count": 6,
   "id": "56a6aa59-d352-4dd2-947d-ec42bf2ccdae",
   "metadata": {},
   "outputs": [
    {
     "name": "stdout",
     "output_type": "stream",
     "text": [
      "                                   user_id utm_source            day  \\\n",
      "0     008b7c6c-7272-471e-b90e-930d548bd8d7     google   6 - Saturday   \n",
      "1     009abb94-5e14-4b6c-bb1c-4f4df7aa7557   facebook     7 - Sunday   \n",
      "2     00f5d532-ed58-4570-b6d2-768df5f41aed    twitter    2 - Tuesday   \n",
      "3     011adc64-0f44-4fd9-a0bb-f1506d2ad439     google    2 - Tuesday   \n",
      "4     012137e6-7ae7-4649-af68-205b4702169c   facebook     7 - Sunday   \n",
      "...                                    ...        ...            ...   \n",
      "1649  fe8b5236-78f6-4192-9da6-a76bba67cfe6    twitter     7 - Sunday   \n",
      "1650  fed3db6d-8c92-40e3-a4fb-1fb9d7337eb1   facebook     5 - Friday   \n",
      "1651  ff3a22ff-521c-478c-87ca-7dc7b8f34372    twitter  3 - Wednesday   \n",
      "1652  ff3af0d6-b092-4c4d-9f2e-2bdd8f7c0732     google     1 - Monday   \n",
      "1653  ffdfe7ec-0c74-4623-8d90-d95d80f1ba34   facebook   6 - Saturday   \n",
      "\n",
      "     ad_click_timestamp experimental_group  is_click  \n",
      "0                  7:18                  A      True  \n",
      "1                   NaN                  B     False  \n",
      "2                   NaN                  A     False  \n",
      "3                   NaN                  B     False  \n",
      "4                   NaN                  B     False  \n",
      "...                 ...                ...       ...  \n",
      "1649                NaN                  A     False  \n",
      "1650                NaN                  B     False  \n",
      "1651                NaN                  B     False  \n",
      "1652              22:57                  A      True  \n",
      "1653                NaN                  B     False  \n",
      "\n",
      "[1654 rows x 6 columns]\n"
     ]
    }
   ],
   "source": [
    "ad_clicks['is_click'] = ad_clicks.ad_click_timestamp.apply(lambda x: False if type(x) is float else True)\n",
    "print(ad_clicks)"
   ]
  },
  {
   "cell_type": "markdown",
   "id": "7a317574-e45d-4558-a5e7-50ff5a5b1261",
   "metadata": {},
   "source": [
    "### Task 4\n",
    "\n",
    "We want to know the percent of people who clicked on ads from each `utm_source`.\n",
    "\n",
    "Start by grouping by `utm_source` and `is_click` and counting the number of `user_id`‘s in each of those groups. Save your answer to the variable `clicks_by_source`."
   ]
  },
  {
   "cell_type": "code",
   "execution_count": 8,
   "id": "52e95fb1-bc07-493f-8c57-f316d5141fc2",
   "metadata": {},
   "outputs": [
    {
     "name": "stdout",
     "output_type": "stream",
     "text": [
      "  utm_source  is_click  user_id\n",
      "0      email     False      175\n",
      "1      email      True       80\n",
      "2   facebook     False      324\n",
      "3   facebook      True      180\n",
      "4     google     False      441\n",
      "5     google      True      239\n",
      "6    twitter     False      149\n",
      "7    twitter      True       66\n"
     ]
    }
   ],
   "source": [
    "clicks_by_source = ad_clicks.groupby(['utm_source','is_click']).user_id.count().reset_index()\n",
    "print(clicks_by_source)"
   ]
  },
  {
   "cell_type": "markdown",
   "id": "56fdbca2-8133-44d0-a03d-802a790c416a",
   "metadata": {},
   "source": [
    "### Task 5\n",
    "Now let’s pivot the data so that the columns are `is_click` (either `True` or `False`), the index is `utm_source`, and the values are `user_id`.\n",
    "\n",
    "Save your results to the variable `clicks_pivot`."
   ]
  },
  {
   "cell_type": "code",
   "execution_count": 10,
   "id": "32a93759-c029-4937-a68a-f4acf167a2ae",
   "metadata": {},
   "outputs": [
    {
     "name": "stdout",
     "output_type": "stream",
     "text": [
      "is_click    False  True \n",
      "utm_source              \n",
      "email         175     80\n",
      "facebook      324    180\n",
      "google        441    239\n",
      "twitter       149     66\n"
     ]
    }
   ],
   "source": [
    "clicks_pivot = clicks_by_source.pivot(columns= 'is_click',\n",
    "                                      index= 'utm_source',\n",
    "                                      values= 'user_id')\n",
    "print(clicks_pivot)"
   ]
  },
  {
   "cell_type": "markdown",
   "id": "14934140-8f5f-47f1-a4c7-c3f31d315942",
   "metadata": {},
   "source": [
    "### Task 6\n",
    "Create a new column in `clicks_pivot` called `percent_clicked` which is equal to the percent of users who clicked on the ad from each `utm_source`.\n",
    "\n",
    "Was there a difference in click rates for each source?"
   ]
  },
  {
   "cell_type": "code",
   "execution_count": 12,
   "id": "feea955f-2bf4-43f7-bcad-f96fc51c7175",
   "metadata": {},
   "outputs": [
    {
     "name": "stdout",
     "output_type": "stream",
     "text": [
      "is_click    False  True  percent_clicked\n",
      "utm_source                              \n",
      "email         175    80        31.372549\n",
      "facebook      324   180        35.714286\n",
      "google        441   239        35.147059\n",
      "twitter       149    66        30.697674\n"
     ]
    }
   ],
   "source": [
    "clicks_pivot['percent_clicked'] = (100*clicks_pivot[True])/(clicks_pivot[False]+clicks_pivot[True])\n",
    "print(clicks_pivot)"
   ]
  },
  {
   "cell_type": "markdown",
   "id": "8ec28f4b-3ca9-4428-9d15-564f7366cc97",
   "metadata": {},
   "source": [
    "## Analyzing an A/B Test"
   ]
  },
  {
   "cell_type": "markdown",
   "id": "788004a4-02a7-4b6b-96c4-ec1ce2a08b8c",
   "metadata": {},
   "source": [
    "### Task 7\n",
    "The column `experimental_group` tells us whether the user was shown Ad A or Ad B.\n",
    "\n",
    "Were approximately the same number of people shown both ads?"
   ]
  },
  {
   "cell_type": "code",
   "execution_count": 14,
   "id": "88b6fb3e-5fba-4b20-a705-9076d12e235b",
   "metadata": {},
   "outputs": [
    {
     "name": "stdout",
     "output_type": "stream",
     "text": [
      "experimental_group    A    B\n",
      "utm_source                  \n",
      "email               121  134\n",
      "facebook            254  250\n",
      "google              349  331\n",
      "twitter             103  112\n",
      "\n",
      "Number of subjects for ad A:827\n",
      "Numberof subjects for ad B:827\n"
     ]
    }
   ],
   "source": [
    "adA_adB = ad_clicks.groupby(['utm_source', 'experimental_group']).user_id.count().reset_index()\n",
    "adA_adB_pivot = adA_adB.pivot(columns= 'experimental_group',\n",
    "                              index= 'utm_source',\n",
    "                              values= 'user_id')\n",
    "print(adA_adB_pivot)\n",
    "print(f'\\nNumber of subjects for ad A:{sum(adA_adB_pivot[\"A\"])}\\nNumberof subjects for ad B:{sum(adA_adB_pivot[\"B\"])}')"
   ]
  },
  {
   "cell_type": "markdown",
   "id": "f9b2d3f5-a6bf-4304-83c4-2604eff935d1",
   "metadata": {},
   "source": [
    "### Task 8\n",
    "\n",
    "Using the column `is_click` that we defined earlier, check to see if a greater percentage of users clicked on Ad A or Ad B."
   ]
  },
  {
   "cell_type": "code",
   "execution_count": 16,
   "id": "97b84d50-24f7-47ab-b3bb-fedee2cc5e1c",
   "metadata": {},
   "outputs": [
    {
     "name": "stdout",
     "output_type": "stream",
     "text": [
      "is_click            False  True \n",
      "experimental_group              \n",
      "A                     517    310\n",
      "B                     572    255\n"
     ]
    }
   ],
   "source": [
    "is_click_adA_adB = ad_clicks.groupby(['experimental_group','is_click']).user_id.count().reset_index()\n",
    "is_click_adA_adB_pivot = is_click_adA_adB.pivot(columns= 'is_click',\n",
    "                                                index= 'experimental_group',\n",
    "                                                values= 'user_id')\n",
    "print(is_click_adA_adB_pivot)\n",
    "#More users clicked ad A than ad B"
   ]
  },
  {
   "cell_type": "markdown",
   "id": "30be20f2-7791-4f96-9587-50726bdc002a",
   "metadata": {},
   "source": [
    "### Task 9\n",
    "The Product Manager for the A/B test thinks that the clicks might have changed by day of the week.\n",
    "\n",
    "Start by creating two DataFrames: `a_clicks` and `b_clicks`, which contain only the results for `A` group and `B` group, respectively."
   ]
  },
  {
   "cell_type": "code",
   "execution_count": 18,
   "id": "f025da15-9228-4534-830a-4c6bba95c27a",
   "metadata": {},
   "outputs": [],
   "source": [
    "a_clicks= ad_clicks.loc[ad_clicks.experimental_group == 'A']\n",
    "b_clicks= ad_clicks.loc[ad_clicks.experimental_group =='B']"
   ]
  },
  {
   "cell_type": "markdown",
   "id": "9e5461a9-22fd-4b46-84ab-671263838eb6",
   "metadata": {},
   "source": [
    "### Task 10\n",
    "For each group (`a_clicks` and `b_clicks`), calculate the percent of users who clicked on the ad by `day`."
   ]
  },
  {
   "cell_type": "code",
   "execution_count": 20,
   "id": "6338571b-47f5-41ff-b851-8afb1d5b964a",
   "metadata": {},
   "outputs": [
    {
     "name": "stdout",
     "output_type": "stream",
     "text": [
      "A clicks\n",
      "day       1 - Monday  2 - Tuesday  3 - Wednesday  4 - Thursday  5 - Friday  \\\n",
      "is_click                                                                     \n",
      "False             70           76             86            69          77   \n",
      "True              43           43             38            47          51   \n",
      "\n",
      "day       6 - Saturday  7 - Sunday  \n",
      "is_click                            \n",
      "False               73          66  \n",
      "True                45          43  \n",
      "\n",
      "B clicks\n",
      "day       1 - Monday  2 - Tuesday  3 - Wednesday  4 - Thursday  5 - Friday  \\\n",
      "is_click                                                                     \n",
      "False             81           74             89            87          90   \n",
      "True              32           45             35            29          38   \n",
      "\n",
      "day       6 - Saturday  7 - Sunday  \n",
      "is_click                            \n",
      "False               76          75  \n",
      "True                42          34  \n"
     ]
    }
   ],
   "source": [
    "#Number of clicks\n",
    "a_clicks_day= a_clicks.groupby(['day','is_click']).user_id.count().reset_index()\n",
    "b_clicks_day= b_clicks.groupby(['day','is_click']).user_id.count().reset_index()\n",
    "\n",
    "a_clicks_day_pivot= a_clicks_day.pivot(columns= 'day',\n",
    "                                       index= 'is_click',\n",
    "                                       values= 'user_id')\n",
    "b_clicks_day_pivot= b_clicks_day.pivot(columns= 'day',\n",
    "                                       index= 'is_click',\n",
    "                                       values= 'user_id')\n",
    "print(f'A clicks\\n{a_clicks_day_pivot}')\n",
    "print(f'\\nB clicks\\n{b_clicks_day_pivot}')"
   ]
  },
  {
   "cell_type": "code",
   "execution_count": 22,
   "id": "ed3b4214-c9a1-4f60-aa4f-ceae591e3f89",
   "metadata": {},
   "outputs": [
    {
     "name": "stdout",
     "output_type": "stream",
     "text": [
      "A clicks\n",
      "day                1 - Monday  2 - Tuesday  3 - Wednesday  4 - Thursday  \\\n",
      "is_click                                                                  \n",
      "percent_of_clicks   38.053097    36.134454      30.645161     40.517241   \n",
      "\n",
      "day                5 - Friday  6 - Saturday  7 - Sunday  \n",
      "is_click                                                 \n",
      "percent_of_clicks    39.84375     38.135593   39.449541  \n",
      "\n",
      "B clicks\n",
      "day                1 - Monday  2 - Tuesday  3 - Wednesday  4 - Thursday  \\\n",
      "is_click                                                                  \n",
      "percent_of_clicks   28.318584    37.815126      28.225806          25.0   \n",
      "\n",
      "day                5 - Friday  6 - Saturday  7 - Sunday  \n",
      "is_click                                                 \n",
      "percent_of_clicks     29.6875      35.59322   31.192661  \n"
     ]
    }
   ],
   "source": [
    "a_clicks_day_pivot.loc['percent_of_clicks'] = (a_clicks_day_pivot.loc[True]*100)/(a_clicks_day_pivot.loc[False] + a_clicks_day_pivot.loc[True])\n",
    "a_clicks_day_pivot.drop(index=[False,True], inplace=True)\n",
    "\n",
    "b_clicks_day_pivot.loc['percent_of_clicks'] = (b_clicks_day_pivot.loc[True]*100)/(b_clicks_day_pivot.loc[False] + b_clicks_day_pivot.loc[True])\n",
    "b_clicks_day_pivot.drop(index=[False,True], inplace=True)\n",
    "print(f'A clicks\\n{a_clicks_day_pivot}')\n",
    "print(f'\\nB clicks\\n{b_clicks_day_pivot}')"
   ]
  },
  {
   "cell_type": "markdown",
   "id": "8bf74cdd-6437-46b1-b825-b719205184ac",
   "metadata": {},
   "source": [
    "### Task 11\n",
    "Compare the results for `A` and `B`. What happened over the course of the week?\n",
    "\n",
    "Do you recommend that your company use Ad A or Ad B?"
   ]
  },
  {
   "cell_type": "markdown",
   "id": "81c30875-2751-4d05-8c82-e843b2c21544",
   "metadata": {},
   "source": [
    "_The clicks flucturated throughout the week with higher views on the Monday and towards the end of the week. I'd reccomend the company uses ad A as it had a higher percentage of clicks on average._"
   ]
  }
 ],
 "metadata": {
  "kernelspec": {
   "display_name": "Python [conda env:base] *",
   "language": "python",
   "name": "conda-base-py"
  },
  "language_info": {
   "codemirror_mode": {
    "name": "ipython",
    "version": 3
   },
   "file_extension": ".py",
   "mimetype": "text/x-python",
   "name": "python",
   "nbconvert_exporter": "python",
   "pygments_lexer": "ipython3",
   "version": "3.12.7"
  }
 },
 "nbformat": 4,
 "nbformat_minor": 5
}
