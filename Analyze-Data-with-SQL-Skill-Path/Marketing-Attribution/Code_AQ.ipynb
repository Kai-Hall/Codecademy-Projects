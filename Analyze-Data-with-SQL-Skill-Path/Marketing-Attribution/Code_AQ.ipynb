{
 "cells": [
  {
   "cell_type": "markdown",
   "id": "e37a57d0-83f3-4f15-9b50-0cfa02c0a203",
   "metadata": {},
   "source": [
    "### Include the following code to write sqlite in jupyter notebook\n",
    "!pip install ipython-sql"
   ]
  },
  {
   "cell_type": "markdown",
   "id": "bc54da57-9adb-4933-a365-03ca9a8cfeff",
   "metadata": {},
   "source": [
    "# Attribution Queries\n",
    "CoolTShirts sells shirts of all kinds, as long as they are T-shaped and cool. Recently, CTS started a few marketing campaigns to increase website visits and purchases. Using touch attribution, they’d like to map their customers’ journey: from initial visit to purchase. They can use that information to optimize their marketing campaigns. This project will guide you through some of that process."
   ]
  },
  {
   "cell_type": "markdown",
   "id": "d740e819-7ae9-4c82-8303-88a0d717a02b",
   "metadata": {},
   "source": [
    "### Code to prime the project"
   ]
  },
  {
   "cell_type": "code",
   "execution_count": 1,
   "id": "1041ea08-70a2-4fba-a69f-dcb5dedf0243",
   "metadata": {},
   "outputs": [
    {
     "data": {
      "text/html": [
       "<span style=\"None\">displaylimit: Value None will be treated as 0 (no limit)</span>"
      ],
      "text/plain": [
       "displaylimit: Value None will be treated as 0 (no limit)"
      ]
     },
     "metadata": {},
     "output_type": "display_data"
    },
    {
     "data": {
      "text/html": [
       "<span style=\"None\">Connecting to &#x27;sqlite:///page_visits.db&#x27;</span>"
      ],
      "text/plain": [
       "Connecting to 'sqlite:///page_visits.db'"
      ]
     },
     "metadata": {},
     "output_type": "display_data"
    }
   ],
   "source": [
    "import pandas as pd\n",
    "import sqlite3\n",
    "\n",
    "%load_ext sql\n",
    "%config SqlMagic.displaylimit = None\n",
    "%sql sqlite:///page_visits.db"
   ]
  },
  {
   "cell_type": "markdown",
   "id": "59f33a7f-280c-4248-9bb3-e96d4144de56",
   "metadata": {},
   "source": [
    "## Get familiar with CoolTShirts"
   ]
  },
  {
   "cell_type": "markdown",
   "id": "6cc877b0-efd2-4968-8b40-3cae08556bba",
   "metadata": {},
   "source": [
    "### Task 1\n",
    "How many campaigns and sources does CoolTShirts use? Which source is used for each campaign?\n",
    "\n",
    "Use three queries:\n",
    "\n",
    "* one for the number of distinct campaigns,\n",
    "* one for the number of distinct sources,\n",
    "* one to find how they are related."
   ]
  },
  {
   "cell_type": "code",
   "execution_count": 17,
   "id": "2b9f0c3d-48b6-4b73-bb57-4fba591f1174",
   "metadata": {},
   "outputs": [
    {
     "data": {
      "text/html": [
       "<span style=\"None\">Running query in &#x27;sqlite:///page_visits.db&#x27;</span>"
      ],
      "text/plain": [
       "Running query in 'sqlite:///page_visits.db'"
      ]
     },
     "metadata": {},
     "output_type": "display_data"
    },
    {
     "data": {
      "text/html": [
       "<table>\n",
       "    <thead>\n",
       "        <tr>\n",
       "            <th>COUNT(DISTINCT utm_campaign)</th>\n",
       "        </tr>\n",
       "    </thead>\n",
       "    <tbody>\n",
       "        <tr>\n",
       "            <td>8</td>\n",
       "        </tr>\n",
       "    </tbody>\n",
       "</table>"
      ],
      "text/plain": [
       "+------------------------------+\n",
       "| COUNT(DISTINCT utm_campaign) |\n",
       "+------------------------------+\n",
       "|              8               |\n",
       "+------------------------------+"
      ]
     },
     "execution_count": 17,
     "metadata": {},
     "output_type": "execute_result"
    }
   ],
   "source": [
    "%%sql\n",
    "SELECT COUNT(DISTINCT utm_campaign)\n",
    "FROM page_visits;"
   ]
  },
  {
   "cell_type": "code",
   "execution_count": 19,
   "id": "3c3e29bd-5549-425b-b7ba-a21eda593489",
   "metadata": {},
   "outputs": [
    {
     "data": {
      "text/html": [
       "<span style=\"None\">Running query in &#x27;sqlite:///page_visits.db&#x27;</span>"
      ],
      "text/plain": [
       "Running query in 'sqlite:///page_visits.db'"
      ]
     },
     "metadata": {},
     "output_type": "display_data"
    },
    {
     "data": {
      "text/html": [
       "<table>\n",
       "    <thead>\n",
       "        <tr>\n",
       "            <th>COUNT(DISTINCT utm_source)</th>\n",
       "        </tr>\n",
       "    </thead>\n",
       "    <tbody>\n",
       "        <tr>\n",
       "            <td>6</td>\n",
       "        </tr>\n",
       "    </tbody>\n",
       "</table>"
      ],
      "text/plain": [
       "+----------------------------+\n",
       "| COUNT(DISTINCT utm_source) |\n",
       "+----------------------------+\n",
       "|             6              |\n",
       "+----------------------------+"
      ]
     },
     "execution_count": 19,
     "metadata": {},
     "output_type": "execute_result"
    }
   ],
   "source": [
    "%%sql\n",
    "SELECT COUNT(DISTINCT utm_source)\n",
    "FROM page_visits;"
   ]
  },
  {
   "cell_type": "code",
   "execution_count": 21,
   "id": "ead504ad-84c1-4ffd-a2cd-c01fa5edce43",
   "metadata": {},
   "outputs": [
    {
     "data": {
      "text/html": [
       "<span style=\"None\">Running query in &#x27;sqlite:///page_visits.db&#x27;</span>"
      ],
      "text/plain": [
       "Running query in 'sqlite:///page_visits.db'"
      ]
     },
     "metadata": {},
     "output_type": "display_data"
    },
    {
     "data": {
      "text/html": [
       "<table>\n",
       "    <thead>\n",
       "        <tr>\n",
       "            <th>utm_campaign</th>\n",
       "            <th>utm_source</th>\n",
       "        </tr>\n",
       "    </thead>\n",
       "    <tbody>\n",
       "        <tr>\n",
       "            <td>cool-tshirts-search</td>\n",
       "            <td>google</td>\n",
       "        </tr>\n",
       "        <tr>\n",
       "            <td>getting-to-know-cool-tshirts</td>\n",
       "            <td>nytimes</td>\n",
       "        </tr>\n",
       "        <tr>\n",
       "            <td>interview-with-cool-tshirts-founder</td>\n",
       "            <td>medium</td>\n",
       "        </tr>\n",
       "        <tr>\n",
       "            <td>paid-search</td>\n",
       "            <td>google</td>\n",
       "        </tr>\n",
       "        <tr>\n",
       "            <td>retargetting-ad</td>\n",
       "            <td>facebook</td>\n",
       "        </tr>\n",
       "        <tr>\n",
       "            <td>retargetting-campaign</td>\n",
       "            <td>email</td>\n",
       "        </tr>\n",
       "        <tr>\n",
       "            <td>ten-crazy-cool-tshirts-facts</td>\n",
       "            <td>buzzfeed</td>\n",
       "        </tr>\n",
       "        <tr>\n",
       "            <td>weekly-newsletter</td>\n",
       "            <td>email</td>\n",
       "        </tr>\n",
       "    </tbody>\n",
       "</table>"
      ],
      "text/plain": [
       "+-------------------------------------+------------+\n",
       "|             utm_campaign            | utm_source |\n",
       "+-------------------------------------+------------+\n",
       "|         cool-tshirts-search         |   google   |\n",
       "|     getting-to-know-cool-tshirts    |  nytimes   |\n",
       "| interview-with-cool-tshirts-founder |   medium   |\n",
       "|             paid-search             |   google   |\n",
       "|           retargetting-ad           |  facebook  |\n",
       "|        retargetting-campaign        |   email    |\n",
       "|     ten-crazy-cool-tshirts-facts    |  buzzfeed  |\n",
       "|          weekly-newsletter          |   email    |\n",
       "+-------------------------------------+------------+"
      ]
     },
     "execution_count": 21,
     "metadata": {},
     "output_type": "execute_result"
    }
   ],
   "source": [
    "%%sql\n",
    "SELECT utm_campaign, utm_source\n",
    "FROM page_visits\n",
    "GROUP BY utm_campaign;"
   ]
  },
  {
   "cell_type": "markdown",
   "id": "5bb647d7-c59e-4069-932b-4737aba645d8",
   "metadata": {},
   "source": [
    "### Task 2\n",
    "What pages are on the CoolTShirts website?\n",
    "\n",
    "Find the distinct values of the `page_name` column."
   ]
  },
  {
   "cell_type": "code",
   "execution_count": 28,
   "id": "260f0724-23b9-45ce-8423-3652a3f9ccb8",
   "metadata": {},
   "outputs": [
    {
     "data": {
      "text/html": [
       "<span style=\"None\">Running query in &#x27;sqlite:///page_visits.db&#x27;</span>"
      ],
      "text/plain": [
       "Running query in 'sqlite:///page_visits.db'"
      ]
     },
     "metadata": {},
     "output_type": "display_data"
    },
    {
     "data": {
      "text/html": [
       "<table>\n",
       "    <thead>\n",
       "        <tr>\n",
       "            <th>page_name</th>\n",
       "        </tr>\n",
       "    </thead>\n",
       "    <tbody>\n",
       "        <tr>\n",
       "            <td>1 - landing_page</td>\n",
       "        </tr>\n",
       "        <tr>\n",
       "            <td>2 - shopping_cart</td>\n",
       "        </tr>\n",
       "        <tr>\n",
       "            <td>3 - checkout</td>\n",
       "        </tr>\n",
       "        <tr>\n",
       "            <td>4 - purchase</td>\n",
       "        </tr>\n",
       "    </tbody>\n",
       "</table>"
      ],
      "text/plain": [
       "+-------------------+\n",
       "|     page_name     |\n",
       "+-------------------+\n",
       "|  1 - landing_page |\n",
       "| 2 - shopping_cart |\n",
       "|    3 - checkout   |\n",
       "|    4 - purchase   |\n",
       "+-------------------+"
      ]
     },
     "execution_count": 28,
     "metadata": {},
     "output_type": "execute_result"
    }
   ],
   "source": [
    "%%sql\n",
    "SELECT DISTINCT page_name\n",
    "FROM page_visits;"
   ]
  },
  {
   "cell_type": "markdown",
   "id": "ce88b4d8-5db7-4d03-8446-e47fcfb6d030",
   "metadata": {},
   "source": [
    "## What is the user journey?"
   ]
  },
  {
   "cell_type": "markdown",
   "id": "bce0f1c2-d62d-4718-916e-220da4bd61a9",
   "metadata": {},
   "source": [
    "### Task 3\n",
    "How many first touches is each campaign responsible for?\n",
    "\n",
    "You’ll need to use a first-touch query. Group by campaign and count the number of first touches for each."
   ]
  },
  {
   "cell_type": "code",
   "execution_count": 33,
   "id": "f3849b37-4c19-454e-a339-ad89051fe457",
   "metadata": {},
   "outputs": [
    {
     "data": {
      "text/html": [
       "<span style=\"None\">Running query in &#x27;sqlite:///page_visits.db&#x27;</span>"
      ],
      "text/plain": [
       "Running query in 'sqlite:///page_visits.db'"
      ]
     },
     "metadata": {},
     "output_type": "display_data"
    },
    {
     "data": {
      "text/html": [
       "<table>\n",
       "    <thead>\n",
       "        <tr>\n",
       "            <th>utm_campaign</th>\n",
       "            <th>No_first_touches</th>\n",
       "        </tr>\n",
       "    </thead>\n",
       "    <tbody>\n",
       "        <tr>\n",
       "            <td>interview-with-cool-tshirts-founder</td>\n",
       "            <td>590</td>\n",
       "        </tr>\n",
       "        <tr>\n",
       "            <td>getting-to-know-cool-tshirts</td>\n",
       "            <td>577</td>\n",
       "        </tr>\n",
       "        <tr>\n",
       "            <td>ten-crazy-cool-tshirts-facts</td>\n",
       "            <td>544</td>\n",
       "        </tr>\n",
       "        <tr>\n",
       "            <td>cool-tshirts-search</td>\n",
       "            <td>164</td>\n",
       "        </tr>\n",
       "        <tr>\n",
       "            <td>weekly-newsletter</td>\n",
       "            <td>42</td>\n",
       "        </tr>\n",
       "        <tr>\n",
       "            <td>retargetting-ad</td>\n",
       "            <td>31</td>\n",
       "        </tr>\n",
       "        <tr>\n",
       "            <td>retargetting-campaign</td>\n",
       "            <td>17</td>\n",
       "        </tr>\n",
       "        <tr>\n",
       "            <td>paid-search</td>\n",
       "            <td>14</td>\n",
       "        </tr>\n",
       "    </tbody>\n",
       "</table>"
      ],
      "text/plain": [
       "+-------------------------------------+------------------+\n",
       "|             utm_campaign            | No_first_touches |\n",
       "+-------------------------------------+------------------+\n",
       "| interview-with-cool-tshirts-founder |       590        |\n",
       "|     getting-to-know-cool-tshirts    |       577        |\n",
       "|     ten-crazy-cool-tshirts-facts    |       544        |\n",
       "|         cool-tshirts-search         |       164        |\n",
       "|          weekly-newsletter          |        42        |\n",
       "|           retargetting-ad           |        31        |\n",
       "|        retargetting-campaign        |        17        |\n",
       "|             paid-search             |        14        |\n",
       "+-------------------------------------+------------------+"
      ]
     },
     "execution_count": 33,
     "metadata": {},
     "output_type": "execute_result"
    }
   ],
   "source": [
    "%%sql\n",
    "WITH first_touch AS (\n",
    "  SELECT user_id, utm_campaign, MIN(timestamp)\n",
    "  FROM page_visits\n",
    "  GROUP BY user_id\n",
    ")\n",
    "SELECT ft.utm_campaign, COUNT(*) AS No_first_touches\n",
    "FROM first_touch AS ft\n",
    "GROUP BY 1\n",
    "ORDER BY 2 DESC;"
   ]
  },
  {
   "cell_type": "markdown",
   "id": "d0f9405b-ecf8-4691-8153-70129dc6fdea",
   "metadata": {},
   "source": [
    "### Task 4\n",
    "How many last touches is each campaign responsible for?\n",
    "\n",
    "Starting with the last-touch query from the lesson, group by campaign and count the number of last touches for each."
   ]
  },
  {
   "cell_type": "code",
   "execution_count": 42,
   "id": "146e9319-4b81-4724-b222-334f6927298b",
   "metadata": {},
   "outputs": [
    {
     "data": {
      "text/html": [
       "<span style=\"None\">Running query in &#x27;sqlite:///page_visits.db&#x27;</span>"
      ],
      "text/plain": [
       "Running query in 'sqlite:///page_visits.db'"
      ]
     },
     "metadata": {},
     "output_type": "display_data"
    },
    {
     "data": {
      "text/html": [
       "<table>\n",
       "    <thead>\n",
       "        <tr>\n",
       "            <th>utm_campaign</th>\n",
       "            <th>No_last_touches</th>\n",
       "        </tr>\n",
       "    </thead>\n",
       "    <tbody>\n",
       "        <tr>\n",
       "            <td>retargetting-ad</td>\n",
       "            <td>412</td>\n",
       "        </tr>\n",
       "        <tr>\n",
       "            <td>weekly-newsletter</td>\n",
       "            <td>405</td>\n",
       "        </tr>\n",
       "        <tr>\n",
       "            <td>getting-to-know-cool-tshirts</td>\n",
       "            <td>272</td>\n",
       "        </tr>\n",
       "        <tr>\n",
       "            <td>retargetting-campaign</td>\n",
       "            <td>228</td>\n",
       "        </tr>\n",
       "        <tr>\n",
       "            <td>ten-crazy-cool-tshirts-facts</td>\n",
       "            <td>226</td>\n",
       "        </tr>\n",
       "        <tr>\n",
       "            <td>interview-with-cool-tshirts-founder</td>\n",
       "            <td>207</td>\n",
       "        </tr>\n",
       "        <tr>\n",
       "            <td>paid-search</td>\n",
       "            <td>164</td>\n",
       "        </tr>\n",
       "        <tr>\n",
       "            <td>cool-tshirts-search</td>\n",
       "            <td>65</td>\n",
       "        </tr>\n",
       "    </tbody>\n",
       "</table>"
      ],
      "text/plain": [
       "+-------------------------------------+-----------------+\n",
       "|             utm_campaign            | No_last_touches |\n",
       "+-------------------------------------+-----------------+\n",
       "|           retargetting-ad           |       412       |\n",
       "|          weekly-newsletter          |       405       |\n",
       "|     getting-to-know-cool-tshirts    |       272       |\n",
       "|        retargetting-campaign        |       228       |\n",
       "|     ten-crazy-cool-tshirts-facts    |       226       |\n",
       "| interview-with-cool-tshirts-founder |       207       |\n",
       "|             paid-search             |       164       |\n",
       "|         cool-tshirts-search         |        65       |\n",
       "+-------------------------------------+-----------------+"
      ]
     },
     "execution_count": 42,
     "metadata": {},
     "output_type": "execute_result"
    }
   ],
   "source": [
    "%%sql\n",
    "WITH last_touch AS (\n",
    "  SELECT user_id, utm_campaign, MAX(timestamp)\n",
    "  FROM page_visits\n",
    "  GROUP BY user_id\n",
    ")\n",
    "SELECT lt.utm_campaign, COUNT(*) AS No_last_touches\n",
    "FROM last_touch AS lt\n",
    "GROUP BY 1\n",
    "ORDER BY 2 DESC;"
   ]
  },
  {
   "cell_type": "markdown",
   "id": "121377f9-e626-4a02-aed3-64af7e0c1d21",
   "metadata": {},
   "source": [
    "### Task 5\n",
    "How many visitors make a purchase?\n",
    "\n",
    "Count the distinct users who visited the page named `4 - purchase`."
   ]
  },
  {
   "cell_type": "code",
   "execution_count": 47,
   "id": "91de6f15-0b04-4a2e-b8f8-b0e2887eb299",
   "metadata": {},
   "outputs": [
    {
     "data": {
      "text/html": [
       "<span style=\"None\">Running query in &#x27;sqlite:///page_visits.db&#x27;</span>"
      ],
      "text/plain": [
       "Running query in 'sqlite:///page_visits.db'"
      ]
     },
     "metadata": {},
     "output_type": "display_data"
    },
    {
     "data": {
      "text/html": [
       "<table>\n",
       "    <thead>\n",
       "        <tr>\n",
       "            <th>COUNT(DISTINCT user_id)</th>\n",
       "        </tr>\n",
       "    </thead>\n",
       "    <tbody>\n",
       "        <tr>\n",
       "            <td>361</td>\n",
       "        </tr>\n",
       "    </tbody>\n",
       "</table>"
      ],
      "text/plain": [
       "+-------------------------+\n",
       "| COUNT(DISTINCT user_id) |\n",
       "+-------------------------+\n",
       "|           361           |\n",
       "+-------------------------+"
      ]
     },
     "execution_count": 47,
     "metadata": {},
     "output_type": "execute_result"
    }
   ],
   "source": [
    "%%sql\n",
    "SELECT COUNT(DISTINCT user_id)\n",
    "FROM page_visits\n",
    "WHERE page_name = '4 - purchase';"
   ]
  },
  {
   "cell_type": "markdown",
   "id": "b5156cae-0eda-448b-a532-0bc96a39b10b",
   "metadata": {},
   "source": [
    "### Task 6\n",
    "How many last touches on the purchase page is each campaign responsible for?\n",
    "\n",
    "This query will look similar to your last-touch query, but with an additional `WHERE` clause."
   ]
  },
  {
   "cell_type": "code",
   "execution_count": 57,
   "id": "c9ae67b6-1153-4715-bc74-4b4534f2fe4d",
   "metadata": {},
   "outputs": [
    {
     "data": {
      "text/html": [
       "<span style=\"None\">Running query in &#x27;sqlite:///page_visits.db&#x27;</span>"
      ],
      "text/plain": [
       "Running query in 'sqlite:///page_visits.db'"
      ]
     },
     "metadata": {},
     "output_type": "display_data"
    },
    {
     "data": {
      "text/html": [
       "<table>\n",
       "    <thead>\n",
       "        <tr>\n",
       "            <th>utm_campaign</th>\n",
       "            <th>No_users_lt_purchase_page</th>\n",
       "        </tr>\n",
       "    </thead>\n",
       "    <tbody>\n",
       "        <tr>\n",
       "            <td>weekly-newsletter</td>\n",
       "            <td>99</td>\n",
       "        </tr>\n",
       "        <tr>\n",
       "            <td>retargetting-ad</td>\n",
       "            <td>97</td>\n",
       "        </tr>\n",
       "        <tr>\n",
       "            <td>retargetting-campaign</td>\n",
       "            <td>48</td>\n",
       "        </tr>\n",
       "        <tr>\n",
       "            <td>paid-search</td>\n",
       "            <td>44</td>\n",
       "        </tr>\n",
       "        <tr>\n",
       "            <td>ten-crazy-cool-tshirts-facts</td>\n",
       "            <td>8</td>\n",
       "        </tr>\n",
       "        <tr>\n",
       "            <td>getting-to-know-cool-tshirts</td>\n",
       "            <td>8</td>\n",
       "        </tr>\n",
       "        <tr>\n",
       "            <td>interview-with-cool-tshirts-founder</td>\n",
       "            <td>6</td>\n",
       "        </tr>\n",
       "        <tr>\n",
       "            <td>cool-tshirts-search</td>\n",
       "            <td>1</td>\n",
       "        </tr>\n",
       "    </tbody>\n",
       "</table>"
      ],
      "text/plain": [
       "+-------------------------------------+---------------------------+\n",
       "|             utm_campaign            | No_users_lt_purchase_page |\n",
       "+-------------------------------------+---------------------------+\n",
       "|          weekly-newsletter          |             99            |\n",
       "|           retargetting-ad           |             97            |\n",
       "|        retargetting-campaign        |             48            |\n",
       "|             paid-search             |             44            |\n",
       "|     ten-crazy-cool-tshirts-facts    |             8             |\n",
       "|     getting-to-know-cool-tshirts    |             8             |\n",
       "| interview-with-cool-tshirts-founder |             6             |\n",
       "|         cool-tshirts-search         |             1             |\n",
       "+-------------------------------------+---------------------------+"
      ]
     },
     "execution_count": 57,
     "metadata": {},
     "output_type": "execute_result"
    }
   ],
   "source": [
    "%%sql\n",
    "WITH last_touch AS (\n",
    "  SELECT user_id, utm_campaign,page_name, MAX(timestamp)\n",
    "  FROM page_visits\n",
    "  GROUP BY user_id\n",
    ")\n",
    "SELECT lt.utm_campaign, COUNT(DISTINCT lt.user_id) AS No_users_lt_purchase_page\n",
    "FROM last_touch AS lt\n",
    "WHERE page_name = '4 - purchase'\n",
    "GROUP BY 1\n",
    "ORDER BY 2 DESC;"
   ]
  },
  {
   "cell_type": "markdown",
   "id": "8071a2c2-18b3-40f7-b0a4-569fccf470cd",
   "metadata": {},
   "source": [
    "### Task 7\n",
    "CoolTShirts can re-invest in 5 campaigns. Given your findings in the project, which should they pick and why?"
   ]
  },
  {
   "cell_type": "code",
   "execution_count": 59,
   "id": "12ef93dd-3836-451a-bb8f-05f464c87f0c",
   "metadata": {},
   "outputs": [
    {
     "data": {
      "text/html": [
       "<span style=\"None\">Running query in &#x27;sqlite:///page_visits.db&#x27;</span>"
      ],
      "text/plain": [
       "Running query in 'sqlite:///page_visits.db'"
      ]
     },
     "metadata": {},
     "output_type": "display_data"
    },
    {
     "data": {
      "text/html": [
       "<table>\n",
       "    <thead>\n",
       "        <tr>\n",
       "            <th>utm_campaign</th>\n",
       "            <th>No_lt_visits_pg1</th>\n",
       "            <th>No_lt_visits_pg2</th>\n",
       "            <th>No_lt_visits_pg3</th>\n",
       "            <th>No_lt_visits_pg4</th>\n",
       "        </tr>\n",
       "    </thead>\n",
       "    <tbody>\n",
       "        <tr>\n",
       "            <td>weekly-newsletter</td>\n",
       "            <td>0</td>\n",
       "            <td>0</td>\n",
       "            <td>450</td>\n",
       "            <td>115</td>\n",
       "        </tr>\n",
       "        <tr>\n",
       "            <td>retargetting-ad</td>\n",
       "            <td>0</td>\n",
       "            <td>0</td>\n",
       "            <td>445</td>\n",
       "            <td>113</td>\n",
       "        </tr>\n",
       "        <tr>\n",
       "            <td>retargetting-campaign</td>\n",
       "            <td>0</td>\n",
       "            <td>0</td>\n",
       "            <td>246</td>\n",
       "            <td>54</td>\n",
       "        </tr>\n",
       "        <tr>\n",
       "            <td>paid-search</td>\n",
       "            <td>0</td>\n",
       "            <td>0</td>\n",
       "            <td>179</td>\n",
       "            <td>52</td>\n",
       "        </tr>\n",
       "        <tr>\n",
       "            <td>ten-crazy-cool-tshirts-facts</td>\n",
       "            <td>576</td>\n",
       "            <td>559</td>\n",
       "            <td>32</td>\n",
       "            <td>9</td>\n",
       "        </tr>\n",
       "        <tr>\n",
       "            <td>getting-to-know-cool-tshirts</td>\n",
       "            <td>612</td>\n",
       "            <td>678</td>\n",
       "            <td>41</td>\n",
       "            <td>9</td>\n",
       "        </tr>\n",
       "        <tr>\n",
       "            <td>interview-with-cool-tshirts-founder</td>\n",
       "            <td>623</td>\n",
       "            <td>513</td>\n",
       "            <td>31</td>\n",
       "            <td>7</td>\n",
       "        </tr>\n",
       "        <tr>\n",
       "            <td>cool-tshirts-search</td>\n",
       "            <td>168</td>\n",
       "            <td>131</td>\n",
       "            <td>7</td>\n",
       "            <td>2</td>\n",
       "        </tr>\n",
       "    </tbody>\n",
       "</table>"
      ],
      "text/plain": [
       "+-------------------------------------+------------------+------------------+------------------+------------------+\n",
       "|             utm_campaign            | No_lt_visits_pg1 | No_lt_visits_pg2 | No_lt_visits_pg3 | No_lt_visits_pg4 |\n",
       "+-------------------------------------+------------------+------------------+------------------+------------------+\n",
       "|          weekly-newsletter          |        0         |        0         |       450        |       115        |\n",
       "|           retargetting-ad           |        0         |        0         |       445        |       113        |\n",
       "|        retargetting-campaign        |        0         |        0         |       246        |        54        |\n",
       "|             paid-search             |        0         |        0         |       179        |        52        |\n",
       "|     ten-crazy-cool-tshirts-facts    |       576        |       559        |        32        |        9         |\n",
       "|     getting-to-know-cool-tshirts    |       612        |       678        |        41        |        9         |\n",
       "| interview-with-cool-tshirts-founder |       623        |       513        |        31        |        7         |\n",
       "|         cool-tshirts-search         |       168        |       131        |        7         |        2         |\n",
       "+-------------------------------------+------------------+------------------+------------------+------------------+"
      ]
     },
     "execution_count": 59,
     "metadata": {},
     "output_type": "execute_result"
    }
   ],
   "source": [
    "%%sql\n",
    "WITH last_touch_pg_1 AS (\n",
    "    SELECT user_id, utm_campaign,page_name, MAX(timestamp) AS last_touch_pg1_at\n",
    "    FROM page_visits\n",
    "    WHERE page_name LIKE '1%'\n",
    "    GROUP BY user_id\n",
    "),\n",
    "  last_touch_pg_2 AS (\n",
    "    SELECT user_id, utm_campaign,page_name, MAX(timestamp) AS last_touch_pg2_at\n",
    "    FROM page_visits\n",
    "    WHERE page_name LIKE '2%'\n",
    "    GROUP BY user_id\n",
    "),\n",
    "  last_touch_funnel_12_left AS (\n",
    "    SELECT lt_pg1.user_id, lt_pg1.utm_campaign, lt_pg1.last_touch_pg1_at,lt_pg2.last_touch_pg2_at\n",
    "    FROM last_touch_pg_1 AS lt_pg1\n",
    "    LEFT JOIN last_touch_pg_2 AS lt_pg2\n",
    "      ON lt_pg1.user_id = lt_pg2.user_id AND\n",
    "        lt_pg1.utm_campaign = lt_pg2.utm_campaign\n",
    "),\n",
    "  last_touch_funnel_12_right AS (\n",
    "    SELECT lt_pg2.user_id, lt_pg2.utm_campaign, lt_pg1.last_touch_pg1_at,lt_pg2.last_touch_pg2_at\n",
    "    FROM last_touch_pg_2 AS lt_pg2\n",
    "    LEFT JOIN last_touch_pg_1 AS lt_pg1\n",
    "      ON lt_pg2.user_id = lt_pg1.user_id AND\n",
    "        lt_pg2.utm_campaign = lt_pg1.utm_campaign\n",
    "),\n",
    "  last_touch_funnel_12 AS (\n",
    "    SELECT *\n",
    "    FROM last_touch_funnel_12_left\n",
    "    UNION\n",
    "    SELECT *\n",
    "    FROM last_touch_funnel_12_right\n",
    "),\n",
    "  last_touch_pg_3 AS (\n",
    "    SELECT user_id, utm_campaign,page_name, MAX(timestamp) AS last_touch_pg3_at\n",
    "    FROM page_visits\n",
    "    WHERE page_name LIKE '3%'\n",
    "    GROUP BY user_id\n",
    "),\n",
    "last_touch_funnel_123_left AS (\n",
    "    SELECT ltf_12.user_id, ltf_12.utm_campaign, ltf_12.last_touch_pg1_at, ltf_12.last_touch_pg2_at,lt_pg3.last_touch_pg3_at\n",
    "    FROM last_touch_funnel_12 AS ltf_12\n",
    "    LEFT JOIN last_touch_pg_3 AS lt_pg3\n",
    "      ON ltf_12.user_id = lt_pg3.user_id AND\n",
    "        ltf_12.utm_campaign = lt_pg3.utm_campaign\n",
    "),\n",
    "  last_touch_funnel_123_right AS (\n",
    "    SELECT lt_pg3.user_id, lt_pg3.utm_campaign, ltf_12.last_touch_pg1_at, ltf_12.last_touch_pg2_at,lt_pg3.last_touch_pg3_at\n",
    "    FROM last_touch_pg_3 AS lt_pg3\n",
    "    LEFT JOIN last_touch_funnel_12 AS ltf_12\n",
    "      ON lt_pg3.user_id = ltf_12.user_id AND\n",
    "        lt_pg3.utm_campaign = ltf_12.utm_campaign\n",
    "),\n",
    "  last_touch_funnel_123 AS (\n",
    "    SELECT *\n",
    "    FROM last_touch_funnel_123_left\n",
    "    UNION\n",
    "    SELECT *\n",
    "    FROM last_touch_funnel_123_right\n",
    "),\n",
    "  last_touch_pg_4 AS (\n",
    "    SELECT user_id, utm_campaign,page_name, MAX(timestamp) AS last_touch_pg4_at\n",
    "    FROM page_visits\n",
    "    WHERE page_name LIKE '4%'\n",
    "    GROUP BY user_id\n",
    "),\n",
    "  last_touch_funnel_1234_left AS (\n",
    "    SELECT ltf_123.user_id, ltf_123.utm_campaign, ltf_123.last_touch_pg1_at, ltf_123.last_touch_pg2_at, ltf_123.last_touch_pg3_at,lt_pg4.last_touch_pg4_at\n",
    "    FROM last_touch_funnel_123 AS ltf_123\n",
    "    LEFT JOIN last_touch_pg_4 AS lt_pg4\n",
    "      ON ltf_123.user_id = lt_pg4.user_id AND\n",
    "        ltf_123.utm_campaign = lt_pg4.utm_campaign\n",
    "),\n",
    "  last_touch_funnel_1234_right AS (\n",
    "    SELECT lt_pg4.user_id, lt_pg4.utm_campaign, ltf_123.last_touch_pg1_at, ltf_123.last_touch_pg2_at, ltf_123.last_touch_pg3_at,lt_pg4.last_touch_pg4_at\n",
    "    FROM last_touch_pg_4 AS lt_pg4\n",
    "    LEFT JOIN last_touch_funnel_123 AS ltf_123\n",
    "      ON lt_pg4.user_id = ltf_123.user_id AND\n",
    "        lt_pg4.utm_campaign = ltf_123.utm_campaign\n",
    "),\n",
    "  last_touch_funnel_1234 AS (\n",
    "    SELECT *\n",
    "    FROM last_touch_funnel_1234_left\n",
    "    UNION\n",
    "    SELECT *\n",
    "    FROM last_touch_funnel_1234_right\n",
    ")\n",
    "\n",
    "SELECT utm_campaign, COUNT(last_touch_pg1_at) AS No_lt_visits_pg1, COUNT(last_touch_pg2_at) AS No_lt_visits_pg2, COUNT(last_touch_pg3_at) AS No_lt_visits_pg3, COUNT(last_touch_pg4_at) AS No_lt_visits_pg4\n",
    "FROM last_touch_funnel_1234\n",
    "GROUP BY 1\n",
    "ORDER BY 5 DESC;"
   ]
  },
  {
   "cell_type": "code",
   "execution_count": 61,
   "id": "358f7c9e-7f64-404f-a766-ce23ac50c21e",
   "metadata": {},
   "outputs": [
    {
     "data": {
      "text/html": [
       "<span style=\"None\">Running query in &#x27;sqlite:///page_visits.db&#x27;</span>"
      ],
      "text/plain": [
       "Running query in 'sqlite:///page_visits.db'"
      ]
     },
     "metadata": {},
     "output_type": "display_data"
    },
    {
     "data": {
      "text/html": [
       "<table>\n",
       "    <thead>\n",
       "        <tr>\n",
       "            <th>utm_campaign</th>\n",
       "            <th>COUNT(lt.user_id)</th>\n",
       "        </tr>\n",
       "    </thead>\n",
       "    <tbody>\n",
       "        <tr>\n",
       "            <td>cool-tshirts-search</td>\n",
       "            <td>31</td>\n",
       "        </tr>\n",
       "        <tr>\n",
       "            <td>getting-to-know-cool-tshirts</td>\n",
       "            <td>106</td>\n",
       "        </tr>\n",
       "        <tr>\n",
       "            <td>interview-with-cool-tshirts-founder</td>\n",
       "            <td>119</td>\n",
       "        </tr>\n",
       "        <tr>\n",
       "            <td>ten-crazy-cool-tshirts-facts</td>\n",
       "            <td>111</td>\n",
       "        </tr>\n",
       "    </tbody>\n",
       "</table>"
      ],
      "text/plain": [
       "+-------------------------------------+-------------------+\n",
       "|             utm_campaign            | COUNT(lt.user_id) |\n",
       "+-------------------------------------+-------------------+\n",
       "|         cool-tshirts-search         |         31        |\n",
       "|     getting-to-know-cool-tshirts    |        106        |\n",
       "| interview-with-cool-tshirts-founder |        119        |\n",
       "|     ten-crazy-cool-tshirts-facts    |        111        |\n",
       "+-------------------------------------+-------------------+"
      ]
     },
     "execution_count": 61,
     "metadata": {},
     "output_type": "execute_result"
    }
   ],
   "source": [
    "%%sql\n",
    "WITH last_touch AS (\n",
    "  SELECT user_id\n",
    "  FROM page_visits\n",
    "  WHERE page_name LIKE '4%'\n",
    "),\n",
    "  first_touch AS (\n",
    "    SELECT utm_campaign, user_id\n",
    "    FROM page_visits\n",
    "    WHERE page_name LIKE '1%'\n",
    ")\n",
    "\n",
    "SELECT ft.utm_campaign, COUNT(lt.user_id) \n",
    "FROM last_touch AS lt\n",
    "LEFT JOIN first_touch AS ft\n",
    "  ON lt.user_id = ft.user_id\n",
    "GROUP BY 1;"
   ]
  },
  {
   "cell_type": "markdown",
   "id": "941107a1-c4b5-423e-8e89-d9af2ccf26c6",
   "metadata": {},
   "source": [
    "_They should re-invest into the following:_\n",
    "\n",
    "1. _interview-with-cool-tshirts-founder_\n",
    "2. _weekly-newsletter_\n",
    "3. _retargetting-ad_\n",
    "4. _ten-crazy-cool-tshirts-facts_\n",
    "5. _getting-to-know-cool-tshirts_\n",
    "\n",
    "_This decision is based on which campaigns where able to in conjuction, see visitors finishing their purchase after experience a first contact through another/the same campaign and those campaigns who, based on them being the first point of contact, where most likely to see customers purchasing a product._"
   ]
  }
 ],
 "metadata": {
  "kernelspec": {
   "display_name": "Python [conda env:base] *",
   "language": "python",
   "name": "conda-base-py"
  },
  "language_info": {
   "codemirror_mode": {
    "name": "ipython",
    "version": 3
   },
   "file_extension": ".py",
   "mimetype": "text/x-python",
   "name": "python",
   "nbconvert_exporter": "python",
   "pygments_lexer": "ipython3",
   "version": "3.12.7"
  }
 },
 "nbformat": 4,
 "nbformat_minor": 5
}
