{
 "cells": [
  {
   "cell_type": "markdown",
   "id": "96fe5d52-62c0-4722-aaf8-3fdecf7de172",
   "metadata": {},
   "source": [
    "# Petal Power Inventory\n",
    "You’re the lead data analyst for a chain of gardening stores called Petal Power. Help them analyze their inventory!\n",
    "\n",
    "If you get stuck during this project or would like to see an experienced developer work through it, click **\"Get Unstuck\"** to see a **project walkthrough video.**"
   ]
  },
  {
   "cell_type": "markdown",
   "id": "d88cf792-1c3c-4195-a176-aa884c84d039",
   "metadata": {},
   "source": [
    "## Answer Customer Emails"
   ]
  },
  {
   "cell_type": "markdown",
   "id": "d5994c35-28d8-48bc-a619-ec271c598148",
   "metadata": {},
   "source": [
    "### Task 1\n",
    "Data for all of the locations of Petal Power is in the file `inventory.csv`. Load the data into a DataFrame called `inventory`."
   ]
  },
  {
   "cell_type": "code",
   "execution_count": 14,
   "id": "7288ca05-9e39-4aca-849e-df40c77f13fd",
   "metadata": {},
   "outputs": [],
   "source": [
    "import pandas as pd\n",
    "\n",
    "inventory = pd.read_csv('inventory.csv')"
   ]
  },
  {
   "cell_type": "markdown",
   "id": "4a304240-fc22-4b43-8270-d91e8e24e47e",
   "metadata": {},
   "source": [
    "### Task 2\n",
    "Inspect the first 10 rows of `inventory`."
   ]
  },
  {
   "cell_type": "code",
   "execution_count": 21,
   "id": "9e653a39-d409-4cc0-a538-6a25d22c5b6b",
   "metadata": {},
   "outputs": [
    {
     "name": "stdout",
     "output_type": "stream",
     "text": [
      "        location  product_type         product_description  quantity  price\n",
      "0  Staten Island         seeds                       daisy         4   6.99\n",
      "1  Staten Island         seeds                  calla lily        46  19.99\n",
      "2  Staten Island         seeds                      tomato        85  13.99\n",
      "3  Staten Island  garden tools                        rake         4  13.99\n",
      "4  Staten Island  garden tools                 wheelbarrow         0  89.99\n",
      "5  Staten Island  garden tools                       spade        93  19.99\n",
      "6  Staten Island  pest_control               insect killer        74  12.99\n",
      "7  Staten Island  pest_control                 weed killer         8  23.99\n",
      "8  Staten Island       planter  20 inch terracotta planter         0  17.99\n",
      "9  Staten Island       planter      8 inch plastic planter        53   3.99\n"
     ]
    }
   ],
   "source": [
    "print(inventory.head(10))"
   ]
  },
  {
   "cell_type": "markdown",
   "id": "b1de206b-3db5-4506-97f1-a4d1679b86d0",
   "metadata": {},
   "source": [
    "### Task 3\n",
    "The first 10 rows represent data from your Staten Island location. Select these rows and save them to `staten_island`."
   ]
  },
  {
   "cell_type": "code",
   "execution_count": 27,
   "id": "1c762efc-e753-4acc-a389-57817700a7b6",
   "metadata": {},
   "outputs": [
    {
     "name": "stdout",
     "output_type": "stream",
     "text": [
      "\n",
      "\n",
      "\n",
      "task 3\n",
      "        location  product_type         product_description  quantity  price\n",
      "0  Staten Island         seeds                       daisy         4   6.99\n",
      "1  Staten Island         seeds                  calla lily        46  19.99\n",
      "2  Staten Island         seeds                      tomato        85  13.99\n",
      "3  Staten Island  garden tools                        rake         4  13.99\n",
      "4  Staten Island  garden tools                 wheelbarrow         0  89.99\n",
      "5  Staten Island  garden tools                       spade        93  19.99\n",
      "6  Staten Island  pest_control               insect killer        74  12.99\n",
      "7  Staten Island  pest_control                 weed killer         8  23.99\n",
      "8  Staten Island       planter  20 inch terracotta planter         0  17.99\n",
      "9  Staten Island       planter      8 inch plastic planter        53   3.99\n"
     ]
    }
   ],
   "source": [
    "staten_island = inventory.iloc[:10,:]\n",
    "print(f'\\n\\n\\ntask 3\\n{staten_island}')"
   ]
  },
  {
   "cell_type": "markdown",
   "id": "6685a321-f56e-4cc1-a893-763c0ce32c42",
   "metadata": {},
   "source": [
    "### Task 4\n",
    "A customer just emailed you asking what products are sold at your Staten Island location. Select the column `product_description` from `staten_island` and save it to the variable `product_request`."
   ]
  },
  {
   "cell_type": "code",
   "execution_count": 30,
   "id": "0a16d049-9663-482b-8ece-dbd27b924760",
   "metadata": {},
   "outputs": [],
   "source": [
    "product_request = staten_island.product_description"
   ]
  },
  {
   "cell_type": "markdown",
   "id": "0ce5360d-b4d0-4ce3-afb9-89f33d2a1b15",
   "metadata": {},
   "source": [
    "### Task 5\n",
    "Another customer emails to ask what types of seeds are sold at the Brooklyn location.\n",
    "\n",
    "Select all rows where `location` is equal to `Brooklyn` and `product_type` is equal to `seeds` and save them to the variable `seed_request`."
   ]
  },
  {
   "cell_type": "code",
   "execution_count": 33,
   "id": "4b65d609-b346-4642-a811-852da5ed18bf",
   "metadata": {},
   "outputs": [
    {
     "name": "stdout",
     "output_type": "stream",
     "text": [
      "\n",
      "\n",
      "\n",
      "task 5\n",
      "   location product_type product_description  quantity  price\n",
      "0  Brooklyn        seeds               daisy        50   6.99\n",
      "1  Brooklyn        seeds          calla lily         0  19.99\n",
      "2  Brooklyn        seeds              tomato         0  13.99\n"
     ]
    }
   ],
   "source": [
    "seed_request = inventory.loc[(inventory.location == 'Brooklyn') & (inventory.product_type == 'seeds')]\n",
    "seed_request.reset_index(drop = True, inplace = True)\n",
    "print(f'\\n\\n\\ntask 5\\n{seed_request}')"
   ]
  },
  {
   "cell_type": "markdown",
   "id": "c5feca39-e745-44a9-a11c-7b8856a3b9cf",
   "metadata": {},
   "source": [
    "## Inventory"
   ]
  },
  {
   "cell_type": "markdown",
   "id": "161a955e-9a98-4c08-ad45-8a545cd574c5",
   "metadata": {},
   "source": [
    "## Task 6\n",
    "\n",
    "Add a column to `inventory` called `in_stock` which is True if `quantity` is greater than 0 and `False` if `quantity` equals 0."
   ]
  },
  {
   "cell_type": "code",
   "execution_count": 37,
   "id": "17eb8f5f-4fa1-48ee-9c9e-60cf3e472f7f",
   "metadata": {},
   "outputs": [
    {
     "name": "stdout",
     "output_type": "stream",
     "text": [
      "\n",
      "\n",
      "\n",
      "task 6\n",
      "         location  product_type         product_description  quantity  price  \\\n",
      "0   Staten Island         seeds                       daisy         4   6.99   \n",
      "1   Staten Island         seeds                  calla lily        46  19.99   \n",
      "2   Staten Island         seeds                      tomato        85  13.99   \n",
      "3   Staten Island  garden tools                        rake         4  13.99   \n",
      "4   Staten Island  garden tools                 wheelbarrow         0  89.99   \n",
      "5   Staten Island  garden tools                       spade        93  19.99   \n",
      "6   Staten Island  pest_control               insect killer        74  12.99   \n",
      "7   Staten Island  pest_control                 weed killer         8  23.99   \n",
      "8   Staten Island       planter  20 inch terracotta planter         0  17.99   \n",
      "9   Staten Island       planter      8 inch plastic planter        53   3.99   \n",
      "10       Brooklyn         seeds                       daisy        50   6.99   \n",
      "11       Brooklyn         seeds                  calla lily         0  19.99   \n",
      "12       Brooklyn         seeds                      tomato         0  13.99   \n",
      "13       Brooklyn  garden tools                        rake        15  13.99   \n",
      "14       Brooklyn  garden tools                 wheelbarrow        82  89.99   \n",
      "15       Brooklyn  garden tools                       spade        36  19.99   \n",
      "16       Brooklyn  pest_control               insect killer        80  12.99   \n",
      "17       Brooklyn  pest_control                 weed killer        76  23.99   \n",
      "18       Brooklyn       planter  20 inch terracotta planter         5  17.99   \n",
      "19       Brooklyn       planter      8 inch plastic planter        26   3.99   \n",
      "20         Queens         seeds                       daisy        57   6.99   \n",
      "21         Queens         seeds                  calla lily        95  19.99   \n",
      "22         Queens         seeds                      tomato        45  13.99   \n",
      "23         Queens  garden tools                        rake        21  13.99   \n",
      "24         Queens  garden tools                 wheelbarrow        98  89.99   \n",
      "25         Queens  garden tools                       spade        26  19.99   \n",
      "26         Queens  pest_control               insect killer         0  12.99   \n",
      "27         Queens  pest_control                 weed killer        16  23.99   \n",
      "28         Queens       planter  20 inch terracotta planter        87  17.99   \n",
      "\n",
      "    in_stcok  \n",
      "0       True  \n",
      "1       True  \n",
      "2       True  \n",
      "3       True  \n",
      "4      False  \n",
      "5       True  \n",
      "6       True  \n",
      "7       True  \n",
      "8      False  \n",
      "9       True  \n",
      "10      True  \n",
      "11     False  \n",
      "12     False  \n",
      "13      True  \n",
      "14      True  \n",
      "15      True  \n",
      "16      True  \n",
      "17      True  \n",
      "18      True  \n",
      "19      True  \n",
      "20      True  \n",
      "21      True  \n",
      "22      True  \n",
      "23      True  \n",
      "24      True  \n",
      "25      True  \n",
      "26     False  \n",
      "27      True  \n",
      "28      True  \n"
     ]
    }
   ],
   "source": [
    "inventory['in_stcok'] = inventory.apply(lambda row: True if row.quantity > 0 else False, axis = 1)\n",
    "print(f'\\n\\n\\ntask 6\\n{inventory}')"
   ]
  },
  {
   "cell_type": "markdown",
   "id": "3985c5e2-cc79-428a-9c26-58c76d174ab1",
   "metadata": {},
   "source": [
    "## Task 7\n",
    "Petal Power wants to know how valuable their current inventory is.\n",
    "\n",
    "Create a column called `total_value` that is equal to `price` multiplied by `quantity`."
   ]
  },
  {
   "cell_type": "code",
   "execution_count": 40,
   "id": "9698cf89-a6e6-4cae-98b3-fa25cd45d353",
   "metadata": {},
   "outputs": [
    {
     "name": "stdout",
     "output_type": "stream",
     "text": [
      "\n",
      "\n",
      "\n",
      "task 7\n",
      "         location  product_type         product_description  quantity  price  \\\n",
      "0   Staten Island         seeds                       daisy         4   6.99   \n",
      "1   Staten Island         seeds                  calla lily        46  19.99   \n",
      "2   Staten Island         seeds                      tomato        85  13.99   \n",
      "3   Staten Island  garden tools                        rake         4  13.99   \n",
      "4   Staten Island  garden tools                 wheelbarrow         0  89.99   \n",
      "5   Staten Island  garden tools                       spade        93  19.99   \n",
      "6   Staten Island  pest_control               insect killer        74  12.99   \n",
      "7   Staten Island  pest_control                 weed killer         8  23.99   \n",
      "8   Staten Island       planter  20 inch terracotta planter         0  17.99   \n",
      "9   Staten Island       planter      8 inch plastic planter        53   3.99   \n",
      "10       Brooklyn         seeds                       daisy        50   6.99   \n",
      "11       Brooklyn         seeds                  calla lily         0  19.99   \n",
      "12       Brooklyn         seeds                      tomato         0  13.99   \n",
      "13       Brooklyn  garden tools                        rake        15  13.99   \n",
      "14       Brooklyn  garden tools                 wheelbarrow        82  89.99   \n",
      "15       Brooklyn  garden tools                       spade        36  19.99   \n",
      "16       Brooklyn  pest_control               insect killer        80  12.99   \n",
      "17       Brooklyn  pest_control                 weed killer        76  23.99   \n",
      "18       Brooklyn       planter  20 inch terracotta planter         5  17.99   \n",
      "19       Brooklyn       planter      8 inch plastic planter        26   3.99   \n",
      "20         Queens         seeds                       daisy        57   6.99   \n",
      "21         Queens         seeds                  calla lily        95  19.99   \n",
      "22         Queens         seeds                      tomato        45  13.99   \n",
      "23         Queens  garden tools                        rake        21  13.99   \n",
      "24         Queens  garden tools                 wheelbarrow        98  89.99   \n",
      "25         Queens  garden tools                       spade        26  19.99   \n",
      "26         Queens  pest_control               insect killer         0  12.99   \n",
      "27         Queens  pest_control                 weed killer        16  23.99   \n",
      "28         Queens       planter  20 inch terracotta planter        87  17.99   \n",
      "\n",
      "    in_stcok  total_value  \n",
      "0       True        27.96  \n",
      "1       True       919.54  \n",
      "2       True      1189.15  \n",
      "3       True        55.96  \n",
      "4      False         0.00  \n",
      "5       True      1859.07  \n",
      "6       True       961.26  \n",
      "7       True       191.92  \n",
      "8      False         0.00  \n",
      "9       True       211.47  \n",
      "10      True       349.50  \n",
      "11     False         0.00  \n",
      "12     False         0.00  \n",
      "13      True       209.85  \n",
      "14      True      7379.18  \n",
      "15      True       719.64  \n",
      "16      True      1039.20  \n",
      "17      True      1823.24  \n",
      "18      True        89.95  \n",
      "19      True       103.74  \n",
      "20      True       398.43  \n",
      "21      True      1899.05  \n",
      "22      True       629.55  \n",
      "23      True       293.79  \n",
      "24      True      8819.02  \n",
      "25      True       519.74  \n",
      "26     False         0.00  \n",
      "27      True       383.84  \n",
      "28      True      1565.13  \n"
     ]
    }
   ],
   "source": [
    "inventory['total_value'] = inventory.price * inventory.quantity\n",
    "print(f'\\n\\n\\ntask 7\\n{inventory}')"
   ]
  },
  {
   "cell_type": "markdown",
   "id": "4cf684d2-cc75-4155-98e2-8eb32dbf91f4",
   "metadata": {},
   "source": [
    "### Task 8\n",
    "The Marketing department wants a complete description of each product for their catalog.\n",
    "\n",
    "The following lambda function combines product_type and `product_description` into a single string:\n",
    "\n",
    "![image-1](Codecademy_image-1.png)\n",
    "\n",
    "Paste this function into `script.py`."
   ]
  },
  {
   "cell_type": "code",
   "execution_count": 47,
   "id": "247a2e6d-94d1-439f-a31d-6a41e2b583c5",
   "metadata": {},
   "outputs": [],
   "source": [
    "combine_lambda = lambda row: f'{row.product_type} - {row.product_description}'"
   ]
  },
  {
   "cell_type": "markdown",
   "id": "b5e94dbd-da83-4525-831a-3dc7f0b18b05",
   "metadata": {},
   "source": [
    "### Task 9\n",
    "Using `combine_lambda`, create a new column in inventory called `full_description` that has the complete description of each product."
   ]
  },
  {
   "cell_type": "code",
   "execution_count": 50,
   "id": "ca9d30d1-1dac-4614-a18a-27a5b8fca4d1",
   "metadata": {},
   "outputs": [
    {
     "name": "stdout",
     "output_type": "stream",
     "text": [
      "\n",
      "\n",
      "\n",
      "task 9\n",
      "         location  product_type         product_description  quantity  price  \\\n",
      "0   Staten Island         seeds                       daisy         4   6.99   \n",
      "1   Staten Island         seeds                  calla lily        46  19.99   \n",
      "2   Staten Island         seeds                      tomato        85  13.99   \n",
      "3   Staten Island  garden tools                        rake         4  13.99   \n",
      "4   Staten Island  garden tools                 wheelbarrow         0  89.99   \n",
      "5   Staten Island  garden tools                       spade        93  19.99   \n",
      "6   Staten Island  pest_control               insect killer        74  12.99   \n",
      "7   Staten Island  pest_control                 weed killer         8  23.99   \n",
      "8   Staten Island       planter  20 inch terracotta planter         0  17.99   \n",
      "9   Staten Island       planter      8 inch plastic planter        53   3.99   \n",
      "10       Brooklyn         seeds                       daisy        50   6.99   \n",
      "11       Brooklyn         seeds                  calla lily         0  19.99   \n",
      "12       Brooklyn         seeds                      tomato         0  13.99   \n",
      "13       Brooklyn  garden tools                        rake        15  13.99   \n",
      "14       Brooklyn  garden tools                 wheelbarrow        82  89.99   \n",
      "15       Brooklyn  garden tools                       spade        36  19.99   \n",
      "16       Brooklyn  pest_control               insect killer        80  12.99   \n",
      "17       Brooklyn  pest_control                 weed killer        76  23.99   \n",
      "18       Brooklyn       planter  20 inch terracotta planter         5  17.99   \n",
      "19       Brooklyn       planter      8 inch plastic planter        26   3.99   \n",
      "20         Queens         seeds                       daisy        57   6.99   \n",
      "21         Queens         seeds                  calla lily        95  19.99   \n",
      "22         Queens         seeds                      tomato        45  13.99   \n",
      "23         Queens  garden tools                        rake        21  13.99   \n",
      "24         Queens  garden tools                 wheelbarrow        98  89.99   \n",
      "25         Queens  garden tools                       spade        26  19.99   \n",
      "26         Queens  pest_control               insect killer         0  12.99   \n",
      "27         Queens  pest_control                 weed killer        16  23.99   \n",
      "28         Queens       planter  20 inch terracotta planter        87  17.99   \n",
      "\n",
      "    in_stcok  total_value                      full_description  \n",
      "0       True        27.96                         seeds - daisy  \n",
      "1       True       919.54                    seeds - calla lily  \n",
      "2       True      1189.15                        seeds - tomato  \n",
      "3       True        55.96                   garden tools - rake  \n",
      "4      False         0.00            garden tools - wheelbarrow  \n",
      "5       True      1859.07                  garden tools - spade  \n",
      "6       True       961.26          pest_control - insect killer  \n",
      "7       True       191.92            pest_control - weed killer  \n",
      "8      False         0.00  planter - 20 inch terracotta planter  \n",
      "9       True       211.47      planter - 8 inch plastic planter  \n",
      "10      True       349.50                         seeds - daisy  \n",
      "11     False         0.00                    seeds - calla lily  \n",
      "12     False         0.00                        seeds - tomato  \n",
      "13      True       209.85                   garden tools - rake  \n",
      "14      True      7379.18            garden tools - wheelbarrow  \n",
      "15      True       719.64                  garden tools - spade  \n",
      "16      True      1039.20          pest_control - insect killer  \n",
      "17      True      1823.24            pest_control - weed killer  \n",
      "18      True        89.95  planter - 20 inch terracotta planter  \n",
      "19      True       103.74      planter - 8 inch plastic planter  \n",
      "20      True       398.43                         seeds - daisy  \n",
      "21      True      1899.05                    seeds - calla lily  \n",
      "22      True       629.55                        seeds - tomato  \n",
      "23      True       293.79                   garden tools - rake  \n",
      "24      True      8819.02            garden tools - wheelbarrow  \n",
      "25      True       519.74                  garden tools - spade  \n",
      "26     False         0.00          pest_control - insect killer  \n",
      "27      True       383.84            pest_control - weed killer  \n",
      "28      True      1565.13  planter - 20 inch terracotta planter  \n"
     ]
    }
   ],
   "source": [
    "inventory['full_description'] = inventory.apply(combine_lambda, axis = 1)\n",
    "print(f'\\n\\n\\ntask 9\\n{inventory}')"
   ]
  }
 ],
 "metadata": {
  "kernelspec": {
   "display_name": "Python [conda env:base] *",
   "language": "python",
   "name": "conda-base-py"
  },
  "language_info": {
   "codemirror_mode": {
    "name": "ipython",
    "version": 3
   },
   "file_extension": ".py",
   "mimetype": "text/x-python",
   "name": "python",
   "nbconvert_exporter": "python",
   "pygments_lexer": "ipython3",
   "version": "3.12.7"
  }
 },
 "nbformat": 4,
 "nbformat_minor": 5
}
