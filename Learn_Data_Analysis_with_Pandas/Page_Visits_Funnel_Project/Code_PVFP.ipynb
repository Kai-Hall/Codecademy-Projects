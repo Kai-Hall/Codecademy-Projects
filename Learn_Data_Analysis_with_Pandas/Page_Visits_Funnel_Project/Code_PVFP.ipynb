{
 "cells": [
  {
   "cell_type": "markdown",
   "id": "2c15962c-3849-48f7-b6db-3e2b0357b4ad",
   "metadata": {},
   "source": [
    "# Page Visits Funnel\n",
    "Cool T-Shirts Inc. has asked you to analyze data on visits to their website. Your job is to build a funnel, which is a description of how many people continue to the next step of a multi-step process.\n",
    "\n",
    "In this case, our funnel is going to describe the following process:\n",
    "\n",
    "1. A user visits CoolTShirts.com\n",
    "2. A user adds a t-shirt to their cart\n",
    "3. A user clicks “checkout”\n",
    "4. A user actually purchases a t-shirt"
   ]
  },
  {
   "cell_type": "markdown",
   "id": "dc35f225-5e2c-4b97-9eb5-b0eb8378fe7b",
   "metadata": {},
   "source": [
    "## Funnel for Cool T-Shirts Inc."
   ]
  },
  {
   "cell_type": "markdown",
   "id": "1ba2b5f5-26af-4751-a27c-303f09d8b674",
   "metadata": {},
   "source": [
    "### Task 1\n",
    "Inspect the DataFrames using `print` and `head`:\n",
    "\n",
    "* `visits` lists all of the users who have visited the website\n",
    "* `cart` lists all of the users who have added a t-shirt to their cart\n",
    "* `checkout` lists all of the users who have started the checkout\n",
    "* `purchase` lists all of the users who have purchased a t-shirt"
   ]
  },
  {
   "cell_type": "code",
   "execution_count": 13,
   "id": "02b3217c-4cf1-4c41-935b-a16100088e3f",
   "metadata": {},
   "outputs": [
    {
     "name": "stdout",
     "output_type": "stream",
     "text": [
      "                                user_id          visit_time\n",
      "0  943647ef-3682-4750-a2e1-918ba6f16188 2017-04-07 15:14:00\n",
      "                                user_id           cart_time\n",
      "0  2be90e7c-9cca-44e0-bcc5-124b945ff168 2017-11-07 20:45:00\n",
      "                                user_id       checkout_time\n",
      "0  d33bdc47-4afa-45bc-b4e4-dbe948e34c0d 2017-06-25 09:29:00\n",
      "                                user_id       purchase_time\n",
      "0  4b44ace4-2721-47a0-b24b-15fbfa2abf85 2017-05-11 04:25:00\n"
     ]
    }
   ],
   "source": [
    "import pandas as pd\n",
    "\n",
    "visits = pd.read_csv('visits.csv',\n",
    "                     parse_dates=[1])\n",
    "cart = pd.read_csv('cart.csv',\n",
    "                   parse_dates=[1])\n",
    "checkout = pd.read_csv('checkout.csv',\n",
    "                       parse_dates=[1])\n",
    "purchase = pd.read_csv('purchase.csv',\n",
    "                       parse_dates=[1])\n",
    "\n",
    "print(f'{visits.head(1)}\\n{cart.head(1)}\\n{checkout.head(1)}\\n{purchase.head(1)}')"
   ]
  },
  {
   "cell_type": "markdown",
   "id": "14f05a82-a506-4b19-b92d-0814db59ef12",
   "metadata": {},
   "source": [
    "### Task 2\n",
    "Combine `visits` and `cart` using a _left merge_."
   ]
  },
  {
   "cell_type": "code",
   "execution_count": 17,
   "id": "8d1742ab-ff76-4931-b288-fc35621c3b4c",
   "metadata": {},
   "outputs": [
    {
     "name": "stdout",
     "output_type": "stream",
     "text": [
      "                                user_id          visit_time cart_time\n",
      "0  943647ef-3682-4750-a2e1-918ba6f16188 2017-04-07 15:14:00       NaT\n"
     ]
    }
   ],
   "source": [
    "visits_cart = pd.merge(visits,cart,how='left')          \n",
    "print(visits_cart.head(1))"
   ]
  },
  {
   "cell_type": "markdown",
   "id": "1c5cd705-4150-4fb3-9607-4b4110ec18b1",
   "metadata": {},
   "source": [
    "### Task 3\n",
    "How long is your merged DataFrame?"
   ]
  },
  {
   "cell_type": "code",
   "execution_count": 20,
   "id": "ac01dae2-138c-4dce-916b-d121b696ba34",
   "metadata": {},
   "outputs": [
    {
     "name": "stdout",
     "output_type": "stream",
     "text": [
      "2000\n"
     ]
    }
   ],
   "source": [
    "print(len(visits_cart))\n",
    "#The same length as the visits dataframe."
   ]
  },
  {
   "cell_type": "markdown",
   "id": "d97f275c-7981-4a8f-b0d0-a052b850835e",
   "metadata": {},
   "source": [
    "### Task 4\n",
    "How many of the timestamps are `null` for the column `cart_time`?\n",
    "\n",
    "What do these null rows mean?"
   ]
  },
  {
   "cell_type": "code",
   "execution_count": 28,
   "id": "832501e5-2ce6-4a2a-bc35-0d7d8748d9dc",
   "metadata": {},
   "outputs": [
    {
     "name": "stdout",
     "output_type": "stream",
     "text": [
      "1652\n"
     ]
    }
   ],
   "source": [
    "visits_cart_null = visits_cart.cart_time.isnull().sum()\n",
    "print(visits_cart_null)"
   ]
  },
  {
   "cell_type": "markdown",
   "id": "a5362113-7fd9-4f49-8cd8-fe544fb42907",
   "metadata": {},
   "source": [
    "### Task 5\n",
    "What percent of users who visited Cool T-Shirts Inc. ended up not placing a t-shirt in their cart?\n",
    "\n",
    "**Note:** To calculate percentages, it will be helpful to turn either the numerator or the denominator into a float, by using `float()`, with the number to convert passed in as input. Otherwise, Python will use integer division, which truncates decimal points."
   ]
  },
  {
   "cell_type": "code",
   "execution_count": 32,
   "id": "d3266dd8-3112-4326-b181-60f4b5b4fbb4",
   "metadata": {},
   "outputs": [
    {
     "name": "stdout",
     "output_type": "stream",
     "text": [
      "\n",
      "The percentage of users who did not place a t-shirt in their cart after visiting the site is 82.6%\n"
     ]
    }
   ],
   "source": [
    "print(f'\\nThe percentage of users who did not place a t-shirt in their cart after visiting the site is {visits_cart_null*100/float(len(visits))}%')"
   ]
  },
  {
   "cell_type": "markdown",
   "id": "f27c6a38-86ec-4a30-9ef3-45d9b25d529a",
   "metadata": {},
   "source": [
    "### Task 6\n",
    "Repeat the left merge for `cart` and `checkout` and count `null` values. What percentage of users put items in their cart, but did not proceed to checkout?"
   ]
  },
  {
   "cell_type": "code",
   "execution_count": 36,
   "id": "1baa4a3f-82fd-4de4-8ca8-379f289cf173",
   "metadata": {},
   "outputs": [
    {
     "name": "stdout",
     "output_type": "stream",
     "text": [
      "\n",
      "The percentage of users who did not checkout their cart after placing items in it is 35.05747126436781%\n",
      "\n"
     ]
    }
   ],
   "source": [
    "cart_checkout = pd.merge(cart,checkout,how='left')\n",
    "cart_checkout_null = len(cart_checkout.loc[cart_checkout.checkout_time.isnull()])\n",
    "print(f'\\nThe percentage of users who did not checkout their cart after placing items in it is {cart_checkout_null*100/float(len(cart))}%\\n')"
   ]
  },
  {
   "cell_type": "markdown",
   "id": "f7092d6c-b0fd-4906-9031-c5bbd5e349a1",
   "metadata": {},
   "source": [
    "### Task 7\n",
    "Merge all four steps of the funnel, in order, using a series of _left merges_. Save the results to the variable `all_data`.\n",
    "\n",
    "Examine the result using `print` and `head`."
   ]
  },
  {
   "cell_type": "code",
   "execution_count": 39,
   "id": "3a4efeb6-d9f9-44d5-a758-91b4fe1bec65",
   "metadata": {},
   "outputs": [
    {
     "name": "stdout",
     "output_type": "stream",
     "text": [
      "                                user_id          visit_time cart_time  \\\n",
      "0  943647ef-3682-4750-a2e1-918ba6f16188 2017-04-07 15:14:00       NaT   \n",
      "\n",
      "  checkout_time purchase_time  \n",
      "0           NaT           NaT  \n"
     ]
    }
   ],
   "source": [
    "all_data = visits.merge(cart, how ='left').merge(checkout, how='left').merge(purchase, how='left')\n",
    "print(all_data.head(1))"
   ]
  },
  {
   "cell_type": "markdown",
   "id": "ae905ed1-3117-4df3-a523-c0350f876724",
   "metadata": {},
   "source": [
    "### Task 8\n",
    "What percentage of users proceeded to checkout, but did not purchase a t-shirt?"
   ]
  },
  {
   "cell_type": "code",
   "execution_count": 44,
   "id": "5b052126-271d-4ba7-9f33-de2371cbbf8d",
   "metadata": {},
   "outputs": [
    {
     "name": "stdout",
     "output_type": "stream",
     "text": [
      "\n",
      "The percentage of users who proceeded to checkout but did not purchase a t-shirt is 36.283185840707965%\n"
     ]
    }
   ],
   "source": [
    "checkout_notnull = all_data.loc[all_data.checkout_time.notnull()]\n",
    "checkout_nunique_id = checkout_notnull.user_id.nunique()\n",
    "purhcase_notnull = all_data.loc[all_data.purchase_time.notnull()]\n",
    "purchase_nunique_id = purhcase_notnull.user_id.nunique()\n",
    "print(f'\\nThe percentage of users who proceeded to checkout but did not purchase a t-shirt is {(checkout_nunique_id-purchase_nunique_id)*100/float(checkout_nunique_id)}%')"
   ]
  },
  {
   "cell_type": "markdown",
   "id": "0ddbb5a5-4c61-44d4-887b-da63c9b9d0e6",
   "metadata": {},
   "source": [
    "### Task 9\n",
    "Which step of the funnel is weakest (i.e., has the highest percentage of users not completing it)?\n",
    "\n",
    "How might Cool T-Shirts Inc. change their website to fix this problem?"
   ]
  },
  {
   "cell_type": "markdown",
   "id": "99c43c5a-f417-4567-9651-d4291e262e9b",
   "metadata": {},
   "source": [
    "_The visits step of the funnel is the weakest with 82.6% of users not placing an item in their cart. This can be improved by giving the website page a face lift, making sure it is easy for users to find the cart, making sure the layout and colours of the site are visually engaging and perhaps doing an analysis to see what items users most like to purchase and pushing to have those be the first items they see when logging on, ensuring a higher level of customer engagement._"
   ]
  },
  {
   "cell_type": "markdown",
   "id": "baff3b6f-9c6f-45eb-affe-82641d5b23e5",
   "metadata": {},
   "source": [
    "## Average Time to Purchase"
   ]
  },
  {
   "cell_type": "markdown",
   "id": "257f1f5e-6255-4238-b482-9d3b07b8a1ac",
   "metadata": {},
   "source": [
    "### Task 10\n",
    "Using the giant merged DataFrame `all_data` that you created, let’s calculate the average time from initial visit to final purchase. Add a column that is the difference between purchase_time and visit_time."
   ]
  },
  {
   "cell_type": "code",
   "execution_count": 50,
   "id": "17d6975c-6d37-4e7c-9ac1-e6d7f005ea8c",
   "metadata": {},
   "outputs": [],
   "source": [
    "all_data['visit_to_purchase_time'] = all_data.purchase_time - all_data.visit_time"
   ]
  },
  {
   "cell_type": "markdown",
   "id": "0710d419-5ba2-4f66-b856-f925e2aab01a",
   "metadata": {},
   "source": [
    "### Task 11\n",
    "Examine the results by printing the new column to the screen."
   ]
  },
  {
   "cell_type": "code",
   "execution_count": 53,
   "id": "e752264b-7ae3-4be5-aa72-d422073c8008",
   "metadata": {},
   "outputs": [
    {
     "name": "stdout",
     "output_type": "stream",
     "text": [
      "                                   user_id          visit_time  \\\n",
      "0     943647ef-3682-4750-a2e1-918ba6f16188 2017-04-07 15:14:00   \n",
      "1     0c3a3dd0-fb64-4eac-bf84-ba069ce409f2 2017-01-26 14:24:00   \n",
      "2     6e0b2d60-4027-4d9a-babd-0e7d40859fb1 2017-08-20 08:23:00   \n",
      "3     6879527e-c5a6-4d14-b2da-50b85212b0ab 2017-11-04 18:15:00   \n",
      "4     a84327ff-5daa-4ba1-b789-d5b4caf81e96 2017-02-27 11:25:00   \n",
      "...                                    ...                 ...   \n",
      "2103  33913ac2-03da-45ae-8fc3-fea39df827c6 2017-03-25 03:29:00   \n",
      "2104  4f850132-b99d-4623-80e6-6e61d003577e 2017-01-08 09:57:00   \n",
      "2105  f0830b9b-1f5c-4e74-b63d-3f847cc6ce70 2017-09-07 12:56:00   \n",
      "2106  b01bffa7-63ba-4cd3-9d93-eb1477c23831 2017-07-20 04:37:00   \n",
      "2107  0336ca81-8d68-443f-9248-ac0b8ad147d5 2017-11-15 10:11:00   \n",
      "\n",
      "               cart_time       checkout_time       purchase_time  \\\n",
      "0                    NaT                 NaT                 NaT   \n",
      "1    2017-01-26 14:44:00 2017-01-26 14:54:00 2017-01-26 15:08:00   \n",
      "2    2017-08-20 08:31:00                 NaT                 NaT   \n",
      "3                    NaT                 NaT                 NaT   \n",
      "4                    NaT                 NaT                 NaT   \n",
      "...                  ...                 ...                 ...   \n",
      "2103                 NaT                 NaT                 NaT   \n",
      "2104                 NaT                 NaT                 NaT   \n",
      "2105                 NaT                 NaT                 NaT   \n",
      "2106                 NaT                 NaT                 NaT   \n",
      "2107                 NaT                 NaT                 NaT   \n",
      "\n",
      "     visit_to_purchase_time  \n",
      "0                       NaT  \n",
      "1           0 days 00:44:00  \n",
      "2                       NaT  \n",
      "3                       NaT  \n",
      "4                       NaT  \n",
      "...                     ...  \n",
      "2103                    NaT  \n",
      "2104                    NaT  \n",
      "2105                    NaT  \n",
      "2106                    NaT  \n",
      "2107                    NaT  \n",
      "\n",
      "[2108 rows x 6 columns]\n"
     ]
    }
   ],
   "source": [
    "print(all_data)"
   ]
  },
  {
   "cell_type": "markdown",
   "id": "496d1cfa-a356-402e-88d4-dcdedd7e6b5c",
   "metadata": {},
   "source": [
    "### Task 12\n",
    "Calculate the average time to purchase by applying the `.mean()` function to your new column."
   ]
  },
  {
   "cell_type": "code",
   "execution_count": 56,
   "id": "fc168dcb-753d-4e61-80b1-7b5603c5844f",
   "metadata": {},
   "outputs": [
    {
     "name": "stdout",
     "output_type": "stream",
     "text": [
      "Average time to make a purchase is 0 days 00:43:12.380952380\n"
     ]
    }
   ],
   "source": [
    "print(f'Average time to make a purchase is {all_data.visit_to_purchase_time.mean()}')"
   ]
  }
 ],
 "metadata": {
  "kernelspec": {
   "display_name": "Python [conda env:base] *",
   "language": "python",
   "name": "conda-base-py"
  },
  "language_info": {
   "codemirror_mode": {
    "name": "ipython",
    "version": 3
   },
   "file_extension": ".py",
   "mimetype": "text/x-python",
   "name": "python",
   "nbconvert_exporter": "python",
   "pygments_lexer": "ipython3",
   "version": "3.12.7"
  }
 },
 "nbformat": 4,
 "nbformat_minor": 5
}
